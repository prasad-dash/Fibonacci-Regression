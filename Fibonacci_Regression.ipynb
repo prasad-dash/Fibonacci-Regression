{
  "nbformat": 4,
  "nbformat_minor": 0,
  "metadata": {
    "colab": {
      "name": "Fibonacci-Regression.ipynb",
      "provenance": [],
      "collapsed_sections": [],
      "authorship_tag": "ABX9TyORovD084OvNg9Bg80kQCh2",
      "include_colab_link": true
    },
    "kernelspec": {
      "name": "python3",
      "display_name": "Python 3"
    },
    "language_info": {
      "name": "python"
    }
  },
  "cells": [
    {
      "cell_type": "markdown",
      "metadata": {
        "id": "view-in-github",
        "colab_type": "text"
      },
      "source": [
        "<a href=\"https://colab.research.google.com/github/prasad-dash/Fibonacci-Regression/blob/main/Fibonacci_Regression.ipynb\" target=\"_parent\"><img src=\"https://colab.research.google.com/assets/colab-badge.svg\" alt=\"Open In Colab\"/></a>"
      ]
    },
    {
      "cell_type": "code",
      "metadata": {
        "id": "cLlQlIGRSnal"
      },
      "source": [
        "import numpy as np\n",
        "import pandas as pd\n",
        "import tensorflow as tf\n",
        "import matplotlib.pyplot as plt\n",
        "import sklearn\n",
        "import math\n"
      ],
      "execution_count": null,
      "outputs": []
    },
    {
      "cell_type": "code",
      "metadata": {
        "id": "4_L2vRjrTHsX"
      },
      "source": [
        "a=1\n",
        "b=1\n",
        "Fibo=[]\n",
        "Fibo.append([a,b])\n",
        "X=[]\n",
        "X.append([1])\n",
        "y=[]\n",
        "y.append(1)\n",
        "for i in range(1000):\n",
        "  c=a+b\n",
        "  X.append([b])\n",
        "  y.append(c)\n",
        "  a=b\n",
        "  b=c"
      ],
      "execution_count": null,
      "outputs": []
    },
    {
      "cell_type": "code",
      "metadata": {
        "colab": {
          "base_uri": "https://localhost:8080/"
        },
        "id": "sE3i8lg7ULSc",
        "outputId": "1eea6b8d-6739-4608-cd5b-09a86f1ddb99"
      },
      "source": [
        "from sklearn.linear_model import LinearRegression\n",
        "regressor=LinearRegression()\n",
        "regressor.fit(X,y)"
      ],
      "execution_count": null,
      "outputs": [
        {
          "output_type": "stream",
          "text": [
            "/usr/local/lib/python3.7/dist-packages/scipy/linalg/basic.py:1231: RuntimeWarning: overflow encountered in square\n",
            "  resids = np.sum(np.abs(x[n:])**2, axis=0)\n"
          ],
          "name": "stderr"
        },
        {
          "output_type": "execute_result",
          "data": {
            "text/plain": [
              "LinearRegression(copy_X=True, fit_intercept=True, n_jobs=None, normalize=False)"
            ]
          },
          "metadata": {
            "tags": []
          },
          "execution_count": 3
        }
      ]
    },
    {
      "cell_type": "code",
      "metadata": {
        "colab": {
          "base_uri": "https://localhost:8080/"
        },
        "id": "B50aVD-UVicC",
        "outputId": "9b52a9e8-c61a-4938-9ff7-18c7a452d97c"
      },
      "source": [
        "regressor.predict([[1]])"
      ],
      "execution_count": null,
      "outputs": [
        {
          "output_type": "execute_result",
          "data": {
            "text/plain": [
              "array([1.61803399])"
            ]
          },
          "metadata": {
            "tags": []
          },
          "execution_count": 4
        }
      ]
    },
    {
      "cell_type": "code",
      "metadata": {
        "id": "PXyawAA1VlHT"
      },
      "source": [
        "preds=regressor.predict(X)"
      ],
      "execution_count": null,
      "outputs": []
    },
    {
      "cell_type": "code",
      "metadata": {
        "colab": {
          "base_uri": "https://localhost:8080/"
        },
        "id": "RSOYKWDuY7ie",
        "outputId": "1c92efcd-c39a-427c-9459-639c497be4d8"
      },
      "source": [
        "sklearn.metrics.mean_absolute_error(y,preds)"
      ],
      "execution_count": null,
      "outputs": [
        {
          "output_type": "execute_result",
          "data": {
            "text/plain": [
              "4.823516272164992e+190"
            ]
          },
          "metadata": {
            "tags": []
          },
          "execution_count": 6
        }
      ]
    },
    {
      "cell_type": "code",
      "metadata": {
        "id": "BhAIUe9PV1If"
      },
      "source": [
        "y_mod=np.reshape(y,(len(y),1))\n",
        "pred_mod=np.reshape(preds,(len(y),1))\n",
        "f=np.concatenate((y_mod,pred_mod),axis=1)"
      ],
      "execution_count": null,
      "outputs": []
    },
    {
      "cell_type": "code",
      "metadata": {
        "colab": {
          "base_uri": "https://localhost:8080/"
        },
        "id": "tl8NyB25WeWf",
        "outputId": "d17761e5-5761-434f-d676-8e7446fda48c"
      },
      "source": [
        "np.max(np.abs(y-preds))"
      ],
      "execution_count": null,
      "outputs": [
        {
          "output_type": "execute_result",
          "data": {
            "text/plain": [
              "1.824976247048878e+193"
            ]
          },
          "metadata": {
            "tags": []
          },
          "execution_count": 8
        }
      ]
    },
    {
      "cell_type": "code",
      "metadata": {
        "id": "qJymSNmgdhou"
      },
      "source": [
        "y_graph=[]\n",
        "x_graph=[]\n",
        "points=np.arange(0,250,0.5)\n",
        "for i in points:\n",
        "  x_graph.append(i)\n",
        "  y_graph.append(len(f[abs(y-preds)>(10**i)]))"
      ],
      "execution_count": null,
      "outputs": []
    },
    {
      "cell_type": "code",
      "metadata": {
        "colab": {
          "base_uri": "https://localhost:8080/",
          "height": 282
        },
        "id": "TjUe4kBVe9c9",
        "outputId": "91dae571-2d49-43d0-d857-b97ec8711f37"
      },
      "source": [
        "plt.plot(x_graph,y_graph)"
      ],
      "execution_count": null,
      "outputs": [
        {
          "output_type": "execute_result",
          "data": {
            "text/plain": [
              "[<matplotlib.lines.Line2D at 0x7f6d823b0390>]"
            ]
          },
          "metadata": {
            "tags": []
          },
          "execution_count": 10
        },
        {
          "output_type": "display_data",
          "data": {
            "image/png": "[encoded data removed]",
            "text/plain": [
              "<Figure size 432x288 with 1 Axes>"
            ]
          },
          "metadata": {
            "tags": [],
            "needs_background": "light"
          }
        }
      ]
    },
    {
      "cell_type": "code",
      "metadata": {
        "id": "2sGTqxJxaLDo"
      },
      "source": [
        ""
      ],
      "execution_count": null,
      "outputs": []
    }
  ]
}